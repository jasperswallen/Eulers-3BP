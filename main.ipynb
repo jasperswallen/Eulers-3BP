{
 "metadata": {
  "language_info": {
   "codemirror_mode": {
    "name": "ipython",
    "version": 3
   },
   "file_extension": ".py",
   "mimetype": "text/x-python",
   "name": "python",
   "nbconvert_exporter": "python",
   "pygments_lexer": "ipython3",
   "version": "3.8.5-final"
  },
  "orig_nbformat": 2,
  "kernelspec": {
   "name": "Python 3.8.5 64-bit",
   "display_name": "Python 3.8.5 64-bit",
   "metadata": {
    "interpreter": {
     "hash": "aee8b7b246df8f9039afb4144a1f6fd8d2ca17a180786b69acc140d282b71a49"
    }
   }
  }
 },
 "nbformat": 4,
 "nbformat_minor": 2,
 "cells": [
  {
   "cell_type": "code",
   "execution_count": 18,
   "metadata": {},
   "outputs": [],
   "source": [
    "import matplotlib.pyplot as plt\n",
    "import numpy as np\n",
    "import math\n",
    "from ipywidgets import interact, interactive, fixed, interact_manual\n",
    "import ipywidgets as widgets\n",
    "import sys"
   ]
  },
  {
   "cell_type": "code",
   "execution_count": 32,
   "metadata": {},
   "outputs": [
    {
     "output_type": "display_data",
     "data": {
      "text/plain": "interactive(children=(FloatSlider(value=0.0, description='mass_1_x', max=50.0, min=-50.0), FloatSlider(value=0…",
      "application/vnd.jupyter.widget-view+json": {
       "version_major": 2,
       "version_minor": 0,
       "model_id": "ddfdde437b4546c89668b924ae877477"
      }
     },
     "metadata": {}
    }
   ],
   "source": [
    "interact_manual(plotGraph, mass_1_x=widgets.FloatSlider(min=-50, max=50, value=0), mass_1_y=widgets.FloatSlider(min=-50, max=50, value=0), mass_2_x=widgets.FloatSlider(min=-50, max=50, value=0.2), mass_2_y=widgets.FloatSlider(min=-50, max=50, value=0), alpha=widgets.FloatSlider(min=0, max=50, value=1), moving_mass_x=widgets.FloatSlider(min=-50, max=50, value=1), moving_mass_y=widgets.FloatSlider(min=-50, max=50, value=0), moving_mass_x_prime=widgets.FloatSlider(min=-50, max=50, value=0), moving_mass_y_prime=widgets.FloatSlider(min=-50, max=50, value=2*np.pi), its=widgets.IntSlider(min=1, max=10000, value=400), delta=widgets.FloatSlider(min=0, max=1.0, value=0.005, readout_format=\".6f\", step=0.000001))\n",
    "\n",
    "\n",
    "def plotGraph(mass_1_x, mass_1_y, mass_2_x, mass_2_y, alpha, moving_mass_x, moving_mass_y, moving_mass_x_prime, moving_mass_y_prime, its, delta):\n",
    "    print(\n",
    "        f\"original: m1: ({mass_1_x}, {mass_1_y}), m2: ({mass_2_x}, {mass_2_y}), m: ({moving_mass_x}, {moving_mass_y})\")\n",
    "\n",
    "    # Reposition the masses such that M1 is at the origin and M2 lies along the y-axis\n",
    "    # First, move all points\n",
    "    # Then rotate\n",
    "\n",
    "    mass_2_x -= mass_1_x\n",
    "    mass_2_y -= mass_1_y\n",
    "    moving_mass_x -= mass_1_x\n",
    "    moving_mass_y -= mass_1_y\n",
    "\n",
    "    m_theta = np.arctan2(moving_mass_y, moving_mass_x)\n",
    "    m2_theta = np.arctan2(mass_2_y, mass_2_x)\n",
    "\n",
    "    mass_2_x = np.sqrt(mass_2_x ** 2 + mass_2_y ** 2)\n",
    "    mass_2_y = 0\n",
    "    mass_1_x = 0\n",
    "    mass_1_y = 0\n",
    "\n",
    "    # Subtract m2_theta from current m_theta\n",
    "\n",
    "    m_theta -= m2_theta\n",
    "    m_r = np.sqrt(moving_mass_x ** 2 + moving_mass_y ** 2)\n",
    "\n",
    "    # Convert back to cartesian coordinates\n",
    "\n",
    "    moving_mass_x = m_r * np.cos(m_theta)\n",
    "    moving_mass_y = m_r * np.sin(m_theta)\n",
    "\n",
    "    # m1 and m2 should now lay along the x-axis and m should be rotated relative to them\n",
    "    print(\n",
    "        f\"final: m1: ({mass_1_x}, {mass_1_y}), m2: ({mass_2_x}, {mass_2_y}), m: ({moving_mass_x}, {moving_mass_y})\")\n",
    "\n",
    "    # declare arrays that will be appended to in loop\n",
    "    x = [moving_mass_x]\n",
    "    y = [moving_mass_y]\n",
    "    x_prime = [moving_mass_x_prime]\n",
    "    y_prime = [moving_mass_y_prime]\n",
    "\n",
    "    # We have the following equations of motion\n",
    "    # x ̇_(n+1)=x ̇_n-δt4π^2 (x_(n+1)/〖r_1^3〗_(n+1) +α(x_(n+1)-d)/〖r_2^3〗_(n+1) )\n",
    "    # y ̇_(n+1)=y ̇_n-δt4π^2 y_(n+1) (1/〖r_1^3〗_(n+1) +α/〖r_2^3〗_(n+1) )\n",
    "\n",
    "    for n in range(its):\n",
    "        # calculate next x, y, x', and y'\n",
    "        x_n_plus_one = x[n] + delta * x_prime[n]\n",
    "        x.append(x_n_plus_one)\n",
    "        y_n_plus_one = y[n] + delta * y_prime[n]\n",
    "        y.append(y_n_plus_one)\n",
    "\n",
    "        x_prime_n_plus_one = x_prime[n] - delta * 4 * (np.pi ** 2) * (x[n + 1] / np.power((x[n + 1] ** 2) + (\n",
    "            y[n + 1] ** 2), 3 / 2) + alpha * (x[n+1] - mass_2_x) / np.power((x[n + 1] - mass_2_x) ** 2 + y[n + 1] ** 2, 3 / 2))\n",
    "        x_prime.append(x_prime_n_plus_one)\n",
    "\n",
    "        y_prime_n_plus_one = y_prime[n] - delta * 4 * (np.pi ** 2) * y[n + 1] * (1 / np.power(\n",
    "            (x[n + 1] ** 2) + (y[n + 1] ** 2), 3 / 2) + 1 / np.power((x[n + 1] - mass_2_x) ** 2 + y[n + 1] ** 2, 3 / 2))\n",
    "        y_prime.append(y_prime_n_plus_one)\n",
    "\n",
    "    plt.plot(x, y)\n",
    "\n",
    "    masses = [[mass_1_x, mass_2_x, moving_mass_x],\n",
    "              [mass_1_y, mass_2_y, moving_mass_y]]\n",
    "    colors = np.array([[255, 0, 0], [0, 255, 0], [0, 0, 255]])\n",
    "\n",
    "    plt.scatter(masses[0], masses[1], c=colors / 255)\n",
    "\n",
    "    labels = [\"m1\", \"m2\", \"m\"]\n",
    "    for i, txt in enumerate(labels):\n",
    "        plt.annotate(txt, (masses[0][i], masses[1][i]))\n",
    "\n",
    "    plt.show()\n"
   ]
  },
  {
   "cell_type": "code",
   "execution_count": null,
   "metadata": {},
   "outputs": [],
   "source": []
  }
 ]
}